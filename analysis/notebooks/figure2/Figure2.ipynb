{
 "cells": [
  {
   "cell_type": "code",
   "execution_count": 2,
   "id": "9c96e7bf-bcba-4093-af3d-99ad66c3b80c",
   "metadata": {},
   "outputs": [],
   "source": [
    "import pathlib\n",
    "\n",
    "import matplotlib as mpl\n",
    "import numpy as np\n",
    "import pandas as pd\n",
    "import scanpy as sc\n",
    "import seaborn as sns\n",
    "\n",
    "%matplotlib inline\n",
    "from matplotlib import pyplot as plt\n",
    "from matplotlib.ticker import AutoMinorLocator, FormatStrFormatter, MultipleLocator\n",
    "\n",
    "savefig_args = {\n",
    "    \"dpi\": 300,\n",
    "    \"bbox_inches\": \"tight\",\n",
    "    \"pad_inches\": 0,\n",
    "    \"transparent\": True,\n",
    "}\n",
    "output_dir = \"../../figures/figure2\"\n",
    "pathlib.Path(output_dir).mkdir(parents=True, exist_ok=True)\n",
    "output_suffix = \"\"\n",
    "output_formats = [\".svg\", \".png\", \".eps\"]\n",
    "filetype = \"pdf\"\n",
    "sc.settings.figdir = output_dir\n",
    "sc.set_figure_params(format=\"pdf\", transparent=True)\n",
    "sc.set_figure_params(dpi_save=600, figsize=(3.5, 3.5))\n",
    "\n",
    "\n",
    "def save_figure(\n",
    "    fig,\n",
    "    name,\n",
    "    output_dir=output_dir,\n",
    "    output_suffix=output_suffix,\n",
    "    output_formats=output_formats,\n",
    "    savefig_args=savefig_args,\n",
    "):\n",
    "    for output_format in output_formats:\n",
    "        fig.savefig(\n",
    "            output_dir + \"/\" + name + output_suffix + output_format, **savefig_args\n",
    "        )\n",
    "    return None\n",
    "\n",
    "\n",
    "width = plt.rcParams[\"figure.figsize\"][0]\n",
    "height = plt.rcParams[\"figure.figsize\"][1]\n",
    "\n",
    "pd.set_option(\"display.max_rows\", 50)\n",
    "pd.set_option(\"display.max_columns\", 20)\n",
    "pd.set_option(\"display.width\", 100)\n",
    "plt.style.use('seaborn-whitegrid')\n",
    "plt.style.use(\"../../scripts/paper.mplstyle\")\n",
    "%run ../../scripts/plotting_helper.py"
   ]
  },
  {
   "cell_type": "code",
   "execution_count": 3,
   "id": "97adc9c7-0e09-48d1-ba26-a353de22ae81",
   "metadata": {},
   "outputs": [],
   "source": [
    "bcells = sc.read_h5ad(\"../../processed_data/h5ad_objects/bcells.h5ad\")"
   ]
  },
  {
   "cell_type": "code",
   "execution_count": null,
   "id": "c40abd08-a036-42e6-bafe-934e191accf5",
   "metadata": {},
   "outputs": [],
   "source": [
    "# dropnans\n",
    "bcells = bcells[\n",
    "    bcells.obs.dropna(subset=[\"simple_mutation_status\", \"isotype_simple\"]).index\n",
    "]"
   ]
  },
  {
   "cell_type": "code",
   "execution_count": null,
   "id": "4c12f70e-61de-45e2-b614-3d9608c3c1aa",
   "metadata": {},
   "outputs": [],
   "source": [
    "# variables\n",
    "x = \"fraction_mutated_bases\"\n",
    "data = bcells.obs\n",
    "hue = \"bcelltype\"\n",
    "palette = bcelltype_colors\n",
    "# Plot\n",
    "fig, ax = plt.subplots(1, 1)\n",
    "sns.ecdfplot(data=data, x=x, complementary=True, hue=hue, lw=1.5, palette=palette)\n",
    "plt.legend(bbox_to_anchor=(1.05, 1), loc=\"upper left\", borderaxespad=0)\n",
    "plt.vlines(mutation_cutoffs[0], ymin=0, ymax=1, linestyles=\"-\", color=\"grey\", linewidths=3)\n",
    "plt.vlines(mutation_cutoffs[1], ymin=0, ymax=1, linestyles=\"-.\", color=\"grey\", linewidth=3)\n",
    "plt.xlabel(\"Fraction of V-gene bases mutated\")\n",
    "plt.ylabel(\"Proportion of Cells\")\n",
    "# TODO add legend for the cutoffs\n",
    "save_figure(fig, \"hypermutation_cutoffs\")"
   ]
  },
  {
   "cell_type": "markdown",
   "id": "651a05c8-b8aa-4330-b136-23187e017831",
   "metadata": {},
   "source": [
    "# Metrics Classification"
   ]
  },
  {
   "cell_type": "code",
   "execution_count": null,
   "id": "018fbbe8-e779-489a-8efe-1287b14837e7",
   "metadata": {},
   "outputs": [],
   "source": [
    "label1 = \"bcelltype\"\n",
    "label2 = \"simple_mutation_status\"\n",
    "data = bcells.obs\n",
    "# calculate confusion matrix\n",
    "cmtx = sc.metrics.confusion_matrix(label1, label2, data, normalize=True)\n",
    "# Plot\n",
    "kws = dict(cbar_kws=dict(ticks=[0, 0.50, 1], orientation=\"horizontal\"))\n",
    "g = sns.clustermap(cmtx, cmap=\"viridis\", figsize=(width, height),**kws)\n",
    "x0, _y0, _w, _h = g.cbar_pos\n",
    "g.ax_cbar.set_position([0.7, 0.09, g.ax_row_dendrogram.get_position().width * 3, 0.05])\n",
    "g.ax_cbar.set_title('proportion of cells')\n",
    "g.ax_cbar.tick_params(axis=\"x\", length=10)\n",
    "#g.ax_cbar.label(\"Proportion of Cells\")\n",
    "for spine in g.ax_cbar.spines:\n",
    "    g.ax_cbar.spines[spine].set_color(\"k\")\n",
    "    g.ax_cbar.spines[spine].set_linewidth(1)\n",
    "fig = g.figure\n",
    "save_figure(fig, \"cmtx_{}_{}\".format(label1, label2))"
   ]
  },
  {
   "cell_type": "code",
   "execution_count": null,
   "id": "5c094918-abf1-4aad-baba-86ce5c51af31",
   "metadata": {},
   "outputs": [],
   "source": [
    "label1 = \"bcelltype\"\n",
    "label2 = \"isotype_simple\"\n",
    "data = bcells.obs\n",
    "cmtx = sc.metrics.confusion_matrix(label1, label2, data, normalize=True)\n",
    "g = sns.clustermap(cmtx, cmap=\"viridis\")\n",
    "fig = g.figure\n",
    "save_figure(fig, \"cmtx_{}_{}\".format(label1, label2))"
   ]
  },
  {
   "cell_type": "markdown",
   "id": "7c73c69e-8928-4b7b-bfa6-1c74a8682b69",
   "metadata": {},
   "source": [
    "# Bias Calculation"
   ]
  },
  {
   "cell_type": "markdown",
   "id": "b21b896f-6b1a-475c-87cd-a5f2b5246fcc",
   "metadata": {},
   "source": [
    "# Groupby mutation status"
   ]
  },
  {
   "cell_type": "code",
   "execution_count": null,
   "id": "c9fd8929-66d6-4afb-8018-b0e97598e169",
   "metadata": {},
   "outputs": [],
   "source": [
    "ird = bcells.obs"
   ]
  },
  {
   "cell_type": "code",
   "execution_count": null,
   "id": "552e99b9-ba22-4015-a869-1b514a698a73",
   "metadata": {},
   "outputs": [],
   "source": [
    "# subset to activated B cells\n",
    "data = ird[ird.sample_id.str.contains(\"Day\")]\n",
    "data = data[~data.sample_id.str.contains(\"Day 0\")]\n",
    "group = \"mutation_status\"\n",
    "label = \"bcelltype\"\n",
    "palette = bcelltype_colors\n",
    "data = data.groupby(group)[label].value_counts(normalize=False).reset_index()\n",
    "data.columns = [group, label, \"proportion\"]\n",
    "\n",
    "fig, ax = plt.subplots(1, 1)\n",
    "sns.barplot(data=data, y=group, x=\"proportion\", hue=label, palette=palette)\n",
    "plt.xscale(\"log\")\n",
    "plt.xlabel(\"Number of Cells\")\n",
    "plt.legend(bbox_to_anchor=(1.05, 1), loc=\"upper left\", borderaxespad=0)"
   ]
  },
  {
   "cell_type": "code",
   "execution_count": null,
   "id": "d2f99331-f5b5-4b08-bd6e-0d9153ec9616",
   "metadata": {},
   "outputs": [],
   "source": [
    "import scipy\n",
    "\n",
    "# BarPlot\n",
    "adata = bcells\n",
    "df = pd.DataFrame(\n",
    "    adata.obs.groupby(\"sample_id\").mutation_status.value_counts(normalize=True)\n",
    ").reset_index()\n",
    "data = df.pivot_table(values=\"mutation_status\", index=df.sample_id, columns=\"level_1\")\n",
    "# set seaborn plotting aesthetics\n",
    "# subset to timecourse & put in order\n",
    "res_arr = np.flip(pseudo_timecourse)\n",
    "color = mutation_colors\n",
    "data = data.loc[res_arr]\n",
    "\n",
    "ax = data.plot(kind=\"barh\", stacked=True, color=color)\n",
    "plt.legend(bbox_to_anchor=(1.05, 1), loc=\"upper left\", borderaxespad=0)\n",
    "locs, labels = plt.xticks()\n",
    "plt.xlabel(\"Proportion of Cells\")\n",
    "plt.setp(labels, rotation=0)\n",
    "fig = ax.get_figure()\n",
    "save_figure(fig, \"stacked_bar_mutation_dynamics\")"
   ]
  },
  {
   "cell_type": "markdown",
   "id": "08f857f9-e299-4cea-a501-80ddd884b9da",
   "metadata": {},
   "source": [
    "## Ratio Plot"
   ]
  },
  {
   "cell_type": "code",
   "execution_count": null,
   "id": "fa3f15af-535b-4c4a-bf9d-82c60e23cf7b",
   "metadata": {},
   "outputs": [],
   "source": [
    "ird[\"sample_id\"] = ird[\"sample_id\"].cat.remove_unused_categories()"
   ]
  },
  {
   "cell_type": "code",
   "execution_count": null,
   "id": "be9f41d0-d0c7-4346-a1a2-8fa8175c2726",
   "metadata": {},
   "outputs": [],
   "source": [
    "group = \"sample_id\"\n",
    "label = \"mutation_status\"\n",
    "df, original = bootstrap_routine(ird, \"sample_id\", \"mutation_status\", 1000, 1000)"
   ]
  },
  {
   "cell_type": "code",
   "execution_count": null,
   "id": "0a793be6-1ce8-4688-bb7f-8f558a77dc33",
   "metadata": {},
   "outputs": [],
   "source": [
    "group = \"sample_id\"\n",
    "data = df\n",
    "y = \"ratio\"\n",
    "x = \"sample_id\"\n",
    "hue = \"mutation_status\"\n",
    "order = [\"Day 0\", \"Day 4\", \"Day 8\", \"Day 12\", \"BM CD138+\"]\n",
    "scale = 1\n",
    "linestyles = [\"-.\", \":\", \"--\"]\n",
    "fig, ax = plt.subplots(1, 1)\n",
    "sns.pointplot(\n",
    "    data=data,\n",
    "    x=x,\n",
    "    y=y,\n",
    "    ci=None,\n",
    "    join=False,\n",
    "    hue=hue,\n",
    "    markers=[\"_\", \"_\", \"_\"],\n",
    "    estimator=lambda x: np.percentile(x, 97.5),\n",
    "    alpha=0.5,\n",
    "    legend=False,\n",
    "    scale=scale,\n",
    "    order=order,\n",
    "    palette=mutation_colors,\n",
    "    dodge=0.3,\n",
    ")\n",
    "\n",
    "sns.pointplot(\n",
    "    data=data,\n",
    "    x=x,\n",
    "    y=y,\n",
    "    ci=None,\n",
    "    join=False,\n",
    "    hue=hue,\n",
    "    estimator=lambda x: np.percentile(x, 2.5),\n",
    "    alpha=0.5,\n",
    "    scale=scale,\n",
    "    markers=[\"_\", \"_\", \"_\"],\n",
    "    order=order,\n",
    "    palette=mutation_colors,\n",
    "    legend=False,\n",
    "    dodge=0.3,\n",
    ")\n",
    "\n",
    "sns.pointplot(\n",
    "    data=data,\n",
    "    x=x,\n",
    "    y=y,\n",
    "    errorbar=\"pi\",\n",
    "    join=True,\n",
    "    linestyles=linestyles,\n",
    "    hue=hue,\n",
    "    linewidth=0.1,\n",
    "    order=order,\n",
    "    palette=mutation_colors,\n",
    "    scale=scale,\n",
    "    markers=[\"o\", \"*\", \"^\"],\n",
    "    dodge=0.3,\n",
    ")\n",
    "plt.axhline(y=1, xmin=0, xmax=1, ls=\"-.\", color=\"k\", lw=2, alpha=0.6)\n",
    "plt.legend(bbox_to_anchor=(1.05, 1), loc=\"upper left\", borderaxespad=0)\n",
    "plt.yscale(\"log\", base=2)\n",
    "plt.ylabel(\"Relative Abundance\\n(cf. Day 0)\")\n",
    "plt.xlabel(\"Sample\")\n",
    "locs, labels = plt.xticks()\n",
    "plt.setp(labels, rotation=45)"
   ]
  },
  {
   "cell_type": "code",
   "execution_count": null,
   "id": "cc17db98-b3be-4471-a72d-d842aa7554f2",
   "metadata": {},
   "outputs": [],
   "source": [
    "save_figure(fig, \"PopluationDynamicsMutationBucket\")"
   ]
  },
  {
   "cell_type": "markdown",
   "id": "e2c2f4c2-5701-481d-bc23-d8633ebcd506",
   "metadata": {},
   "source": [
    "# Isotype Population Dynamics"
   ]
  },
  {
   "cell_type": "code",
   "execution_count": null,
   "id": "edb5297a-9c8e-4f09-baf2-a6f73760db4d",
   "metadata": {},
   "outputs": [],
   "source": [
    "def calculation_routine_3(df, group1, group2, group3):\n",
    "    dfs = []\n",
    "    for index, group in df.groupby([group1, group2]):\n",
    "        stats = pd.DataFrame(\n",
    "            df.groupby([group1, group2])[group3]\n",
    "            .value_counts(normalize=True)\n",
    "            .xs(index[0])\n",
    "            .xs(\"mutated\")\n",
    "            / df.groupby([group1, group2])[group3]\n",
    "            .value_counts(normalize=True)\n",
    "            .xs(index[0])\n",
    "            .xs(\"germline\")\n",
    "        )\n",
    "        stats[\"sample_id\"] = index[0]\n",
    "        dfs.append(stats)\n",
    "    # Create DataFrame to Plot\n",
    "    data = pd.concat(dfs)\n",
    "    data.columns = [\"germline / mutated\", \"sample_id\"]\n",
    "    data.index.rename(group3, inplace=True)\n",
    "    data.reset_index(inplace=True)\n",
    "    data.drop_duplicates(inplace=True)\n",
    "    return data, stats"
   ]
  },
  {
   "cell_type": "markdown",
   "id": "4a0ed988-3e5f-4237-8645-c3349299da3c",
   "metadata": {},
   "source": [
    "### Generate Bootstrapped Samples"
   ]
  },
  {
   "cell_type": "code",
   "execution_count": null,
   "id": "0fd897f2-5a3b-444b-9aba-362f63dc0a29",
   "metadata": {},
   "outputs": [],
   "source": [
    "dfs = []\n",
    "for i in range(1000):\n",
    "    # create bootstrapped df\n",
    "    df = ird.groupby(\"sample_id\").sample(frac=1, replace=True)\n",
    "    data = (\n",
    "        df.groupby([\"sample_id\", \"isotype_simple\"])\n",
    "        .simple_mutation_status.value_counts(normalize=True)\n",
    "        .unstack()\n",
    "        .reset_index()\n",
    "    )\n",
    "    data[\"germline / mutated\"] = data[\"germline\"] / (data[\"mutated\"] + 0)\n",
    "    dfs.append(data)\n",
    "data = pd.concat(dfs)\n",
    "\n",
    "\n",
    "real = (\n",
    "    ird.groupby([\"sample_id\", \"isotype_simple\"])\n",
    "    .simple_mutation_status.value_counts(normalize=True)\n",
    "    .unstack()\n",
    "    .reset_index()\n",
    ")\n",
    "real.loc[:, \"germline / mutated\"] = real[\"germline\"] / real[\"mutated\"]\n",
    "\n",
    "\n",
    "maximum = data[\"germline / mutated\"][data[\"germline / mutated\"] != np.infty].max()\n",
    "\n",
    "data\n",
    "\n",
    "# data.loc[data['germline / mutated'] >= data['germline / mutated'].max(), 'germline / mutated'] = maximum\n",
    "\n",
    "order = [\"Day 0\", \"Day 4\", \"Day 8\", \"Day 12\", \"BM CD138+\"]\n",
    "\n",
    "mean = data.groupby([\"sample_id\", \"isotype_simple\"]).mean().reset_index()\n",
    "q1 = data.groupby([\"sample_id\", \"isotype_simple\"]).quantile(q=0.975).reset_index()\n",
    "q2 = data.groupby([\"sample_id\", \"isotype_simple\"]).quantile(q=0.025).reset_index()\n",
    "\n",
    "markers = []\n",
    "linestyles = []\n",
    "for i in range(len(order)):\n",
    "    markers.append(\"_\")\n",
    "    linestyles.append(\"--\")"
   ]
  },
  {
   "cell_type": "code",
   "execution_count": null,
   "id": "f2385a00-e24b-4342-aeed-ae5c69d21c81",
   "metadata": {},
   "outputs": [],
   "source": [
    "palette = igh_colors_simple"
   ]
  },
  {
   "cell_type": "code",
   "execution_count": null,
   "id": "ae69c4d6-152b-43c8-9b07-d78cc518bb2a",
   "metadata": {},
   "outputs": [],
   "source": [
    "data = (\n",
    "    ird.groupby([\"sample_id\", \"isotype_simple\"])\n",
    "    .simple_mutation_status.value_counts(normalize=True)\n",
    "    .unstack()\n",
    "    .reset_index()\n",
    ")\n",
    "data[\"germline / mutated\"] = data[\"germline\"] / (data[\"mutated\"] + 0)"
   ]
  },
  {
   "cell_type": "code",
   "execution_count": null,
   "id": "e00c72e9-f727-48d4-b41c-087bc38dec01",
   "metadata": {},
   "outputs": [],
   "source": [
    "fig, ax = plt.subplots(1, 1)\n",
    "ax = sns.pointplot(\n",
    "    data=q1,\n",
    "    y=\"germline / mutated\",\n",
    "    x=\"sample_id\",\n",
    "    hue=\"isotype_simple\",\n",
    "    size=1,\n",
    "    order=order, join = True,\n",
    "    scale=0.5,\n",
    "    linestyles=linestyles,\n",
    "    markers=markers,\n",
    "    palette=palette,\n",
    ")\n",
    "ax.legend_.remove()\n",
    "ax = sns.pointplot(\n",
    "    data=q2,\n",
    "    y=\"germline / mutated\",\n",
    "    x=\"sample_id\",\n",
    "    hue=\"isotype_simple\",\n",
    "    size=0.5,\n",
    "    order=order,\n",
    "    scale=0.5, join = True,\n",
    "    linestyles=linestyles,\n",
    "    markers=markers,\n",
    "    palette=palette,\n",
    ")\n",
    "ax.legend_.remove()\n",
    "ax = sns.pointplot(\n",
    "    data=data,\n",
    "    y=\"germline / mutated\",\n",
    "    x=\"sample_id\",\n",
    "    hue=\"isotype_simple\",\n",
    "    dashes=False, join = True,\n",
    "    order=order,\n",
    "    scale=1,\n",
    "    palette=palette,\n",
    ")\n",
    "\n",
    "plt.legend(bbox_to_anchor=(1.1, 1), loc=\"upper left\", borderaxespad=0)\n",
    "plt.ylabel(\"Ratio Germline / Mutated\")\n",
    "plt.yscale(\"log\", base=2)\n",
    "locs, labels = plt.xticks()\n",
    "plt.setp(labels, rotation=45)"
   ]
  },
  {
   "cell_type": "code",
   "execution_count": null,
   "id": "ca7e5b39-b018-4e30-abf8-90c3cba67357",
   "metadata": {},
   "outputs": [],
   "source": [
    "save_figure(fig, \"germline_over_mutated_class_switching\")"
   ]
  },
  {
   "cell_type": "markdown",
   "id": "b4e6d34c-39c8-4796-a97c-78511810beb0",
   "metadata": {},
   "source": [
    "# Celltype Population Dynamics"
   ]
  },
  {
   "cell_type": "code",
   "execution_count": null,
   "id": "d10c6186-be3a-452c-aad4-a0112e2920d6",
   "metadata": {},
   "outputs": [],
   "source": [
    "dfs = []\n",
    "for i in range(1000):\n",
    "    # create bootstrapped df\n",
    "    df = ird.groupby(\"sample_id\").sample(frac=1, replace=True)\n",
    "    data = (\n",
    "        df.groupby([\"sample_id\", \"bcelltype\"])\n",
    "        .simple_mutation_status.value_counts(normalize=True)\n",
    "        .unstack()\n",
    "        .reset_index()\n",
    "    )\n",
    "    data[\"germline / mutated\"] = data[\"germline\"] / data[\"mutated\"]\n",
    "    dfs.append(data)\n",
    "\n",
    "data = pd.concat(dfs)\n",
    "\n",
    "\n",
    "real = (\n",
    "    ird.groupby([\"sample_id\", \"bcelltype\"])\n",
    "    .simple_mutation_status.value_counts(normalize=True)\n",
    "    .unstack()\n",
    "    .reset_index()\n",
    ")\n",
    "real.loc[:, \"germline / mutated\"] = real[\"germline\"] / real[\"mutated\"]\n",
    "\n",
    "\n",
    "maximum = data[\"germline / mutated\"][data[\"germline / mutated\"] != np.infty].max()\n",
    "\n",
    "data\n",
    "\n",
    "# data.loc[data['germline / mutated'] >= data['germline / mutated'].max(), 'germline / mutated'] = maximum\n",
    "\n",
    "order = [\"Day 0\", \"Day 4\", \"Day 8\", \"Day 12\", \"BM CD138+\"]\n",
    "\n",
    "mean = data.groupby([\"sample_id\", \"bcelltype\"]).mean().reset_index()\n",
    "q1 = data.groupby([\"sample_id\", \"bcelltype\"]).quantile(q=0.975).reset_index()\n",
    "q2 = data.groupby([\"sample_id\", \"bcelltype\"]).quantile(q=0.025).reset_index()\n",
    "\n",
    "markers = []\n",
    "linestyles = []\n",
    "marknumber = mean[\"bcelltype\"].nunique()\n",
    "for i in range(marknumber):\n",
    "    markers.append(\"_\")\n",
    "    linestyles.append(\"--\")"
   ]
  },
  {
   "cell_type": "code",
   "execution_count": null,
   "id": "2a11867c-8be9-4a0c-97b4-615d22a0345b",
   "metadata": {},
   "outputs": [],
   "source": [
    "order = pseudo_timecourse"
   ]
  },
  {
   "cell_type": "code",
   "execution_count": null,
   "id": "49e37f02-b3a8-4bfc-8cbc-f6b2c2694cc4",
   "metadata": {},
   "outputs": [],
   "source": [
    "palette = bcelltype_colors"
   ]
  },
  {
   "cell_type": "code",
   "execution_count": null,
   "id": "0fa49789-b1fb-4412-89c4-558a66f39293",
   "metadata": {
    "tags": []
   },
   "outputs": [],
   "source": [
    "fig, ax = plt.subplots(1, 1)\n",
    "scale = 0.6\n",
    "sns.pointplot(\n",
    "    data=mean,\n",
    "    y=\"germline / mutated\",\n",
    "    x=\"sample_id\",\n",
    "    hue=\"bcelltype\",\n",
    "    dashes=True,\n",
    "    order=order,\n",
    "    scale=0.8,\n",
    "    palette=palette,\n",
    ")\n",
    "sns.pointplot(\n",
    "    data=q1,\n",
    "    y=\"germline / mutated\",\n",
    "    x=\"sample_id\",\n",
    "    hue=\"bcelltype\",\n",
    "    size=1,\n",
    "    order=order,\n",
    "    scale=scale * 0.3,\n",
    "    markers=markers,\n",
    "    linestyles=linestyles,\n",
    "    palette=palette,\n",
    ")\n",
    "sns.pointplot(\n",
    "    data=q2,\n",
    "    y=\"germline / mutated\",\n",
    "    x=\"sample_id\",\n",
    "    hue=\"bcelltype\",\n",
    "    size=1,\n",
    "    order=order,\n",
    "    scale=scale * 0.3,\n",
    "    markers=markers,\n",
    "    linestyles=linestyles,\n",
    "    palette=palette,\n",
    ")\n",
    "plt.legend(bbox_to_anchor=(1.1, 1), loc=\"upper left\", borderaxespad=0)\n",
    "plt.ylabel(\"Ratio Germline / Mutated\")\n",
    "plt.yscale(\"log\", base=2)\n",
    "locs, labels = plt.xticks()\n",
    "plt.setp(labels, rotation=45)\n",
    "sns.move_legend(\n",
    "    ax,  loc=\"upper left\",bbox_to_anchor=(1, 1),\n",
    "    ncol=3, title=None, frameon=False,\n",
    ")"
   ]
  },
  {
   "cell_type": "code",
   "execution_count": null,
   "id": "f75cd41d-9510-4c4e-8bfb-d6c39a679f35",
   "metadata": {},
   "outputs": [],
   "source": [
    "save_figure(fig, \"B_Cell_Subtypes_Dynamics_Mutation\")"
   ]
  },
  {
   "cell_type": "code",
   "execution_count": null,
   "id": "25f7366d-002f-4e49-9254-aa8ab6822eea",
   "metadata": {},
   "outputs": [],
   "source": [
    "group = \"sample_id\"\n",
    "label = \"bcelltype\"\n",
    "order = pseudo_timecourse\n",
    "_df = pd.DataFrame(ird.groupby([group])[label].value_counts(normalize=False))\n",
    "_df.columns = [\"dummy\"]\n",
    "_df.reset_index(inplace=True)\n",
    "_df.columns = [\"sample_id\", \"celltype\", \"proportion\"]\n",
    "fig, ax = plt.subplots(1, 1, figsize=(5, 2))\n",
    "\n",
    "sns.barplot(\n",
    "    x=\"sample_id\",\n",
    "    y=\"proportion\",\n",
    "    hue=\"celltype\",\n",
    "    palette=palette,\n",
    "    data=_df,\n",
    "    order=order,\n",
    ")\n",
    "\n",
    "# plt.xscale('log')\n",
    "plt.legend(bbox_to_anchor=(1.02, 1), loc=\"upper left\", borderaxespad=0)\n",
    "plt.xlabel(\"Number of Cells\")\n",
    "plt.ylabel(\"sample_id\")\n",
    "plt.yscale(\"log\")\n",
    "locs, labels = plt.xticks()\n",
    "plt.setp(labels, rotation=45)"
   ]
  },
  {
   "cell_type": "code",
   "execution_count": null,
   "id": "446083c6-caad-4526-b543-b4e4db998e58",
   "metadata": {},
   "outputs": [],
   "source": [
    "save_figure(fig, \"bcelltype_count\")"
   ]
  },
  {
   "cell_type": "code",
   "execution_count": null,
   "id": "1b87b1ee-6ddf-48f2-804b-2c7211b7b41e",
   "metadata": {},
   "outputs": [],
   "source": [
    "ird.loc[:, \"Fraction V-gene mutated\"] = 1 - ird[\"IR_VDJ_1_v_identity\"]"
   ]
  },
  {
   "cell_type": "code",
   "execution_count": null,
   "id": "ef2253c0-5dfa-4fd3-89b8-a7b1aed654c0",
   "metadata": {},
   "outputs": [],
   "source": [
    "ird = ird[ird.sample_id.isin(pseudo_timecourse)]"
   ]
  },
  {
   "cell_type": "code",
   "execution_count": null,
   "id": "535fe113-f462-4e49-8f27-c2744014226d",
   "metadata": {},
   "outputs": [],
   "source": [
    "ird.sample_id = ird.sample_id.cat.remove_unused_categories()"
   ]
  },
  {
   "cell_type": "code",
   "execution_count": null,
   "id": "5f4391c7-61a8-435a-a4d9-82a148161733",
   "metadata": {},
   "outputs": [],
   "source": [
    "g = sns.displot(\n",
    "    ird,\n",
    "    x=\"fraction_mutated_bases\",\n",
    "    hue=\"isotype_simple\",\n",
    "    kind=\"ecdf\",\n",
    "    col=\"sample_id\",\n",
    "    lw=3,\n",
    "    palette=IGH_colors_simple(),\n",
    "    complementary=True\n",
    ")\n",
    "g.set_ylabels(\"Proportion of Cells\")\n",
    "\n",
    "fig = g.figure\n",
    "\n",
    "save_figure(fig, \"ecdf_v_mutation_isotype_simple\")"
   ]
  },
  {
   "cell_type": "code",
   "execution_count": null,
   "id": "ac19bd63-e0d0-4ba4-a4a4-c6ff55ea09f2",
   "metadata": {},
   "outputs": [],
   "source": [
    "g = sns.displot(\n",
    "    ird,\n",
    "    x=\"fraction_mutated_bases\",\n",
    "    hue=\"isotype_simple\",\n",
    "    kind=\"ecdf\",\n",
    "    col=\"sample_id\",\n",
    "    lw=3,\n",
    "    palette=IGH_colors_simple(),\n",
    "    complementary=True, stat = \"count\"\n",
    ")\n",
    "g.set_ylabels(\"Number of Cells\")\n",
    "plt.yscale(\"log\")\n",
    "\n",
    "fig = g.figure\n",
    "\n",
    "save_figure(fig, \"ecdf_v_mutation_isotype_simple_count\")"
   ]
  }
 ],
 "metadata": {
  "kernelspec": {
   "display_name": "Python 3 (ipykernel)",
   "language": "python",
   "name": "python3"
  },
  "language_info": {
   "codemirror_mode": {
    "name": "ipython",
    "version": 3
   },
   "file_extension": ".py",
   "mimetype": "text/x-python",
   "name": "python",
   "nbconvert_exporter": "python",
   "pygments_lexer": "ipython3",
   "version": "3.9.13"
  }
 },
 "nbformat": 4,
 "nbformat_minor": 5
}
